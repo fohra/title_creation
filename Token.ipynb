{
 "cells": [
  {
   "cell_type": "code",
   "execution_count": 1,
   "metadata": {},
   "outputs": [
    {
     "name": "stdout",
     "output_type": "stream",
     "text": [
      "Collecting stanza\n",
      "  Downloading stanza-1.2-py3-none-any.whl (282 kB)\n",
      "Requirement already satisfied: torch>=1.3.0 in e:\\anaconda\\lib\\site-packages (from stanza) (1.4.0)\n",
      "Collecting protobuf\n",
      "  Downloading protobuf-3.15.6-cp37-cp37m-win_amd64.whl (904 kB)\n",
      "Requirement already satisfied: numpy in e:\\anaconda\\lib\\site-packages (from stanza) (1.18.5)\n",
      "Requirement already satisfied: tqdm in e:\\anaconda\\lib\\site-packages (from stanza) (4.47.0)\n",
      "Requirement already satisfied: requests in e:\\anaconda\\lib\\site-packages (from stanza) (2.24.0)\n",
      "Requirement already satisfied: six>=1.9 in e:\\anaconda\\lib\\site-packages (from protobuf->stanza) (1.15.0)\n",
      "Requirement already satisfied: certifi>=2017.4.17 in e:\\anaconda\\lib\\site-packages (from requests->stanza) (2020.11.8)\n",
      "Requirement already satisfied: idna<3,>=2.5 in e:\\anaconda\\lib\\site-packages (from requests->stanza) (2.10)\n",
      "Requirement already satisfied: chardet<4,>=3.0.2 in e:\\anaconda\\lib\\site-packages (from requests->stanza) (3.0.4)\n",
      "Requirement already satisfied: urllib3!=1.25.0,!=1.25.1,<1.26,>=1.21.1 in e:\\anaconda\\lib\\site-packages (from requests->stanza) (1.25.9)\n",
      "Installing collected packages: protobuf, stanza\n",
      "Successfully installed protobuf-3.15.6 stanza-1.2\n"
     ]
    },
    {
     "name": "stderr",
     "output_type": "stream",
     "text": [
      "Downloading https://raw.githubusercontent.com/stanfordnlp/stanza-resources/master/resources_1.2.0.json: 128kB [00:00, 10.3MB/s]\n",
      "2021-03-19 12:39:06 INFO: Downloading default packages for language: en (English)...\n",
      "Downloading http://nlp.stanford.edu/software/stanza/1.2.0/en/default.zip: 100%|█████| 411M/411M [01:17<00:00, 5.31MB/s]\n",
      "2021-03-19 12:40:28 INFO: Finished downloading models and saved to C:\\Users\\Atte\\stanza_resources.\n"
     ]
    }
   ],
   "source": [
    "import numpy as np\n",
    "!pip install stanza\n",
    "import stanza\n",
    "stanza.download('en')\n",
    "nlp = stanza.Pipeline(lang='en', processors='tokenize,lemma',  verbose=False)"
   ]
  },
  {
   "cell_type": "code",
   "execution_count": 3,
   "metadata": {},
   "outputs": [],
   "source": [
    "\n",
    "def tokenize(data):\n",
    "    \"\"\"Tokenize words\n",
    "    Inputs:\n",
    "        data : numpy array\n",
    "            Data array containing the article text\n",
    "    Outputs:\n",
    "        out : list\n",
    "            List of tokenized and lemmatized words\n",
    "    \"\"\"\n",
    "    nlp = stanza.Pipeline(lang='en', processors='tokenize,lemma',  verbose=False)\n",
    "    doc = nlp(data)\n",
    "    out = []\n",
    "    for sent in doc.sentences:\n",
    "        for word in sent.words:\n",
    "            out.append(word.lemma.lower())\n",
    "            \n",
    "    return out"
   ]
  },
  {
   "cell_type": "code",
   "execution_count": 4,
   "metadata": {},
   "outputs": [
    {
     "data": {
      "text/plain": [
       "['data', 'tarticle', '1']"
      ]
     },
     "execution_count": 4,
     "metadata": {},
     "output_type": "execute_result"
    }
   ],
   "source": [
    "tokenize('data/articles1')"
   ]
  },
  {
   "cell_type": "code",
   "execution_count": null,
   "metadata": {},
   "outputs": [],
   "source": []
  }
 ],
 "metadata": {
  "kernelspec": {
   "display_name": "Python 3",
   "language": "python",
   "name": "python3"
  },
  "language_info": {
   "codemirror_mode": {
    "name": "ipython",
    "version": 3
   },
   "file_extension": ".py",
   "mimetype": "text/x-python",
   "name": "python",
   "nbconvert_exporter": "python",
   "pygments_lexer": "ipython3",
   "version": "3.7.4"
  }
 },
 "nbformat": 4,
 "nbformat_minor": 4
}
