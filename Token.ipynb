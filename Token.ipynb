{
 "cells": [
  {
   "cell_type": "code",
   "execution_count": 5,
   "metadata": {},
   "outputs": [
    {
     "name": "stderr",
     "output_type": "stream",
     "text": [
      "Downloading https://raw.githubusercontent.com/stanfordnlp/stanza-resources/master/resources_1.2.0.json: 128kB [00:00, 21.4MB/s]\n",
      "2021-03-19 11:00:28 INFO: Downloading default packages for language: en (English)...\n"
     ]
    },
    {
     "name": "stdout",
     "output_type": "stream",
     "text": [
      "Requirement already satisfied: stanza in c:\\users\\joona\\anaconda3\\lib\\site-packages (1.2)\n",
      "Requirement already satisfied: tqdm in c:\\users\\joona\\anaconda3\\lib\\site-packages (from stanza) (4.42.1)\n",
      "Requirement already satisfied: requests in c:\\users\\joona\\anaconda3\\lib\\site-packages (from stanza) (2.22.0)\n",
      "Requirement already satisfied: torch>=1.3.0 in c:\\users\\joona\\anaconda3\\lib\\site-packages (from stanza) (1.8.0)\n",
      "Requirement already satisfied: numpy in c:\\users\\joona\\anaconda3\\lib\\site-packages (from stanza) (1.18.1)\n",
      "Requirement already satisfied: protobuf in c:\\users\\joona\\anaconda3\\lib\\site-packages (from stanza) (3.15.6)\n",
      "Requirement already satisfied: idna<2.9,>=2.5 in c:\\users\\joona\\anaconda3\\lib\\site-packages (from requests->stanza) (2.8)\n",
      "Requirement already satisfied: urllib3!=1.25.0,!=1.25.1,<1.26,>=1.21.1 in c:\\users\\joona\\anaconda3\\lib\\site-packages (from requests->stanza) (1.25.8)\n",
      "Requirement already satisfied: chardet<3.1.0,>=3.0.2 in c:\\users\\joona\\anaconda3\\lib\\site-packages (from requests->stanza) (3.0.4)\n",
      "Requirement already satisfied: certifi>=2017.4.17 in c:\\users\\joona\\anaconda3\\lib\\site-packages (from requests->stanza) (2019.11.28)\n",
      "Requirement already satisfied: typing-extensions in c:\\users\\joona\\anaconda3\\lib\\site-packages (from torch>=1.3.0->stanza) (3.7.4.3)\n",
      "Requirement already satisfied: six>=1.9 in c:\\users\\joona\\appdata\\roaming\\python\\python37\\site-packages (from protobuf->stanza) (1.14.0)\n"
     ]
    },
    {
     "name": "stderr",
     "output_type": "stream",
     "text": [
      "2021-03-19 11:00:29 INFO: File exists: C:\\Users\\joona\\stanza_resources\\en\\default.zip.\n",
      "2021-03-19 11:00:33 INFO: Finished downloading models and saved to C:\\Users\\joona\\stanza_resources.\n"
     ]
    }
   ],
   "source": [
    "import numpy as np\n",
    "!pip install stanza\n",
    "import stanza\n",
    "stanza.download('en')\n",
    "nlp = stanza.Pipeline(lang='en', processors='tokenize,lemma',  verbose=False)"
   ]
  },
  {
   "cell_type": "code",
   "execution_count": 6,
   "metadata": {},
   "outputs": [],
   "source": [
    "\n",
    "def tokenize(data):\n",
    "    \"\"\"Tokenize words\n",
    "    Inputs:\n",
    "        data : numpy array\n",
    "            Data array containing the article text\n",
    "    Outputs:\n",
    "        out : list\n",
    "            List of tokenized and lemmatized words\n",
    "    \"\"\"\n",
    "    nlp = stanza.Pipeline(lang='en', processors='tokenize,lemma',  verbose=False)\n",
    "    f = open(file_name)\n",
    "    text = f.read()\n",
    "    doc = nlp(text)\n",
    "    out = []\n",
    "    for sent in doc.sentences:\n",
    "        for word in sent.words:\n",
    "            out.append(word.lemma.lower())\n",
    "            \n",
    "    return out"
   ]
  },
  {
   "cell_type": "code",
   "execution_count": null,
   "metadata": {},
   "outputs": [],
   "source": [
    "tokenize('data/articles1')"
   ]
  }
 ],
 "metadata": {
  "kernelspec": {
   "display_name": "Python 3",
   "language": "python",
   "name": "python3"
  },
  "language_info": {
   "codemirror_mode": {
    "name": "ipython",
    "version": 3
   },
   "file_extension": ".py",
   "mimetype": "text/x-python",
   "name": "python",
   "nbconvert_exporter": "python",
   "pygments_lexer": "ipython3",
   "version": "3.7.6"
  }
 },
 "nbformat": 4,
 "nbformat_minor": 4
}
