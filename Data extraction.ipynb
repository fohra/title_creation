{
 "cells": [
  {
   "cell_type": "markdown",
   "metadata": {},
   "source": [
    "# Notebook for extracting data"
   ]
  },
  {
   "cell_type": "code",
   "execution_count": 37,
   "metadata": {},
   "outputs": [],
   "source": [
    "import numpy as np\n",
    "import pandas as pd\n",
    "import time\n",
    "import stanza"
   ]
  },
  {
   "cell_type": "code",
   "execution_count": 38,
   "metadata": {},
   "outputs": [],
   "source": [
    "stanza.download('en')\n",
    "nlp = stanza.Pipeline(lang='en', processors='tokenize,lemma',  verbose=False)"
   ]
  },
  {
   "cell_type": "code",
   "execution_count": 39,
   "metadata": {},
   "outputs": [],
   "source": [
    "\n",
    "def tokenize(data):\n",
    "    \"\"\"Tokenize words\n",
    "    Inputs:\n",
    "        data : str\n",
    "            A string containing the article text\n",
    "    Outputs:\n",
    "        out : list\n",
    "            List of tokenized and lemmatized words\n",
    "    \"\"\"\n",
    "    nlp = stanza.Pipeline(lang='en', processors='tokenize,lemma',  verbose=False)\n",
    "    doc = nlp(data)\n",
    "    out = []\n",
    "    for sent in doc.sentences:\n",
    "        for word in sent.words:\n",
    "            out.append(word.lemma.lower())\n",
    "            \n",
    "    return out"
   ]
  },
  {
   "cell_type": "code",
   "execution_count": 40,
   "metadata": {},
   "outputs": [],
   "source": [
    "def load_data(folder_name, max_words):\n",
    "    '''\n",
    "    Loads title and text from the given folder and stores it to a numpy array. Takes max_words amount of words from the text\n",
    "    \n",
    "    Inputs:\n",
    "    folder_name : str\n",
    "        destination of csv file\n",
    "    max_words : int\n",
    "        number of words to take from text\n",
    "        \n",
    "    Outputs:\n",
    "    ret : numpy array\n",
    "        shape(N,2), where first column is title and second is corresponding text\n",
    "    '''\n",
    "    df = pd.read_csv(folder_name)\n",
    "    titles = df.dropna()['title'].values\n",
    "    text = df.dropna()['content'].apply(lambda x: \" \".join(x.split()[0:max_words]))\n",
    "    ret = np.array([titles, text]).T\n",
    "    \n",
    "    return ret"
   ]
  },
  {
   "cell_type": "code",
   "execution_count": 41,
   "metadata": {},
   "outputs": [],
   "source": [
    "def extract_data(file, max_words):\n",
    "    ''' \n",
    "    Main function for extracting data\n",
    "    \n",
    "    Inputs:\n",
    "    file : str\n",
    "        destination of csv file\n",
    "    max_words : int\n",
    "        number of words to take from text\n",
    "    \n",
    "    Outputs:\n",
    "    data1: numpy array\n",
    "        An array of shape (N,2), where on each row there is a tokenized and lemmatized title of the article and a 50 word long\n",
    "        tokenized and lemmatized text.\n",
    "    '''\n",
    "    data1 = load_data(file, max_words)\n",
    "    \n",
    "    for i in range(data1.shape[0]):\n",
    "        data1[i,0] = tokenize(data1[i,0])\n",
    "        data1[i,1] = tokenize(data1[i,1])\n",
    "        if i%1000 == 0:\n",
    "            print(i)\n",
    "            print(time.time()-start)\n",
    "    \n",
    "    return data1"
   ]
  },
  {
   "cell_type": "code",
   "execution_count": 107,
   "metadata": {},
   "outputs": [
    {
     "name": "stdout",
     "output_type": "stream",
     "text": [
      "0\n",
      "3.33554744720459\n",
      "1000\n",
      "137.579115152359\n",
      "2000\n",
      "273.49046564102173\n",
      "3000\n",
      "410.3901255130768\n",
      "4000\n",
      "544.7796211242676\n",
      "5000\n",
      "680.9490840435028\n",
      "6000\n",
      "815.8964951038361\n",
      "7000\n",
      "950.2463464736938\n",
      "8000\n",
      "1085.5610930919647\n",
      "9000\n",
      "1223.2059874534607\n",
      "10000\n",
      "1363.0494391918182\n",
      "11000\n",
      "1503.3645045757294\n",
      "12000\n",
      "1641.325650691986\n",
      "13000\n",
      "1780.1372473239899\n",
      "14000\n",
      "1919.0838537216187\n",
      "15000\n",
      "2058.2279257774353\n",
      "16000\n",
      "2196.8848943710327\n",
      "17000\n",
      "2337.1308863162994\n",
      "18000\n",
      "2479.0618538856506\n",
      "19000\n",
      "2623.171090364456\n",
      "20000\n",
      "2765.259790420532\n",
      "21000\n",
      "2906.0800247192383\n",
      "22000\n",
      "3047.417018890381\n",
      "23000\n",
      "3188.270562171936\n",
      "24000\n",
      "3328.5184848308563\n",
      "25000\n",
      "3474.5871415138245\n",
      "26000\n",
      "3614.1262538433075\n",
      "27000\n",
      "3750.920711517334\n",
      "28000\n",
      "3889.0353696346283\n",
      "29000\n",
      "4026.547479391098\n",
      "30000\n",
      "4164.067597150803\n",
      "31000\n",
      "4301.309461355209\n",
      "32000\n",
      "4435.953962802887\n",
      "33000\n",
      "4566.564794063568\n",
      "34000\n",
      "4697.069528341293\n",
      "35000\n",
      "4826.099922180176\n",
      "36000\n",
      "4955.368531942368\n",
      "37000\n",
      "5085.814213037491\n",
      "38000\n",
      "5214.623405218124\n",
      "39000\n",
      "5344.567630290985\n",
      "40000\n",
      "5474.161535978317\n",
      "41000\n",
      "5603.822503566742\n",
      "42000\n",
      "5734.912770986557\n",
      "43000\n",
      "5863.650898694992\n",
      "44000\n",
      "5995.556907892227\n",
      "45000\n",
      "6127.1296145915985\n",
      "46000\n",
      "6257.298043251038\n",
      "47000\n",
      "6387.606599569321\n",
      "48000\n",
      "6517.6834506988525\n",
      "49000\n",
      "6647.749787092209\n"
     ]
    }
   ],
   "source": [
    "start = time.time()\n",
    "extract = extract_data('data/articles1.csv',50)\n",
    "np.save('data/extracted1.npy', extract)"
   ]
  },
  {
   "cell_type": "code",
   "execution_count": null,
   "metadata": {},
   "outputs": [],
   "source": [
    "start = time.time()\n",
    "extract = extract_data('data/articles2.csv',50)\n",
    "np.save('data/extracted2.npy', extract)"
   ]
  },
  {
   "cell_type": "code",
   "execution_count": null,
   "metadata": {},
   "outputs": [],
   "source": [
    "start = time.time()\n",
    "extract = extract_data('data/articles3.csv',50)\n",
    "np.save('data/extracted3.npy', extract)"
   ]
  },
  {
   "cell_type": "code",
   "execution_count": null,
   "metadata": {},
   "outputs": [],
   "source": []
  }
 ],
 "metadata": {
  "kernelspec": {
   "display_name": "Python 3",
   "language": "python",
   "name": "python3"
  },
  "language_info": {
   "codemirror_mode": {
    "name": "ipython",
    "version": 3
   },
   "file_extension": ".py",
   "mimetype": "text/x-python",
   "name": "python",
   "nbconvert_exporter": "python",
   "pygments_lexer": "ipython3",
   "version": "3.7.4"
  }
 },
 "nbformat": 4,
 "nbformat_minor": 4
}
