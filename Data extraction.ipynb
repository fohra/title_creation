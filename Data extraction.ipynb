{
 "cells": [
  {
   "cell_type": "markdown",
   "metadata": {},
   "source": [
    "# Notebook for extracting data"
   ]
  },
  {
   "cell_type": "code",
   "execution_count": 82,
   "metadata": {},
   "outputs": [],
   "source": [
    "import numpy as np\n",
    "import pandas as pd\n",
    "import time\n",
    "import stanza"
   ]
  },
  {
   "cell_type": "code",
   "execution_count": 83,
   "metadata": {},
   "outputs": [],
   "source": [
    "stanza.download('en')\n",
    "nlp = stanza.Pipeline(lang='en', processors='tokenize,lemma',  verbose=False)"
   ]
  },
  {
   "cell_type": "code",
   "execution_count": 84,
   "metadata": {},
   "outputs": [],
   "source": [
    "\n",
    "def tokenize(data):\n",
    "    \"\"\"Tokenize words\n",
    "    Inputs:\n",
    "        data : str\n",
    "            A string containing the article text\n",
    "    Outputs:\n",
    "        out : list\n",
    "            List of tokenized and lemmatized words\n",
    "    \"\"\"\n",
    "    nlp = stanza.Pipeline(lang='en', processors='tokenize,lemma',  verbose=False)\n",
    "    doc = nlp(data)\n",
    "    out = []\n",
    "    for sent in doc.sentences:\n",
    "        for word in sent.words:\n",
    "            out.append(word.lemma.lower())\n",
    "            \n",
    "    return out"
   ]
  },
  {
   "cell_type": "code",
   "execution_count": 85,
   "metadata": {},
   "outputs": [],
   "source": [
    "def load_data(folder_name, max_words):\n",
    "    '''\n",
    "    Loads title and text from the given folder and stores it to a numpy array. Takes max_words amount of words from the text\n",
    "    \n",
    "    Inputs:\n",
    "    folder_name : str\n",
    "        destination of csv file\n",
    "    max_words : int\n",
    "        number of words to take from text\n",
    "        \n",
    "    Outputs:\n",
    "    ret : numpy array\n",
    "        shape(N,2), where first column is title and second is corresponding text\n",
    "    '''\n",
    "    df = pd.read_csv(folder_name)\n",
    "    df = df[['title', 'content']].copy()\n",
    "    df = df.dropna()\n",
    "    titles = df['title'].values\n",
    "    text = df['content'].apply(lambda x: \" \".join(x.split()[0:max_words]))\n",
    "    ret = np.array([titles, text]).T\n",
    "    \n",
    "    return ret"
   ]
  },
  {
   "cell_type": "code",
   "execution_count": 86,
   "metadata": {},
   "outputs": [],
   "source": [
    "def extract_data(file, max_words):\n",
    "    ''' \n",
    "    Main function for extracting data\n",
    "    \n",
    "    Inputs:\n",
    "    file : str\n",
    "        destination of csv file\n",
    "    max_words : int\n",
    "        number of words to take from text\n",
    "    \n",
    "    Outputs:\n",
    "    data1: numpy array\n",
    "        An array of shape (N,2), where on each row there is a tokenized and lemmatized title of the article and a 50 word long\n",
    "        tokenized and lemmatized text.\n",
    "    '''\n",
    "    data1 = load_data(file, max_words)\n",
    "    \n",
    "    for i in range(data1.shape[0]):\n",
    "        data1[i,0] = tokenize(data1[i,0])\n",
    "        data1[i,1] = tokenize(data1[i,1])\n",
    "        if i%1000 == 0:\n",
    "            print(i)\n",
    "            print(time.time()-start)\n",
    "    \n",
    "    return data1"
   ]
  },
  {
   "cell_type": "markdown",
   "metadata": {},
   "source": [
    "### Cells for running extraction"
   ]
  },
  {
   "cell_type": "markdown",
   "metadata": {},
   "source": [
    "Takes about 1.5 hours each"
   ]
  },
  {
   "cell_type": "code",
   "execution_count": 87,
   "metadata": {},
   "outputs": [],
   "source": [
    "#start = time.time()\n",
    "#extract = extract_data('data/articles1.csv',50)\n",
    "#np.save('data/extracted1.npy', extract)"
   ]
  },
  {
   "cell_type": "code",
   "execution_count": 88,
   "metadata": {},
   "outputs": [],
   "source": [
    "#start = time.time()\n",
    "#extract = extract_data('data/articles2.csv',50)\n",
    "#np.save('data/extracted2.npy', extract)"
   ]
  },
  {
   "cell_type": "code",
   "execution_count": 89,
   "metadata": {},
   "outputs": [],
   "source": [
    "#start = time.time()\n",
    "#extract = extract_data('data/articles3.csv',50)\n",
    "#np.save('data/extracted3.npy', extract)"
   ]
  },
  {
   "cell_type": "markdown",
   "metadata": {},
   "source": [
    "### Combining the tokenized data"
   ]
  },
  {
   "cell_type": "code",
   "execution_count": 68,
   "metadata": {},
   "outputs": [],
   "source": [
    "hopo1 = np.load('data/extracted1.npy', allow_pickle=True)"
   ]
  },
  {
   "cell_type": "code",
   "execution_count": 69,
   "metadata": {},
   "outputs": [],
   "source": [
    "hopo2 = np.load('data/extracted2.npy', allow_pickle=True)"
   ]
  },
  {
   "cell_type": "code",
   "execution_count": 70,
   "metadata": {},
   "outputs": [],
   "source": [
    "hopo3 = np.load('data/extracted3.npy', allow_pickle=True)"
   ]
  },
  {
   "cell_type": "code",
   "execution_count": 71,
   "metadata": {},
   "outputs": [],
   "source": [
    "hopo_combined = np.concatenate((hopo1,hopo2,hopo3))"
   ]
  },
  {
   "cell_type": "code",
   "execution_count": 74,
   "metadata": {},
   "outputs": [
    {
     "data": {
      "text/plain": [
       "(142568, 2)"
      ]
     },
     "execution_count": 74,
     "metadata": {},
     "output_type": "execute_result"
    }
   ],
   "source": [
    "hopo_combined.shape"
   ]
  },
  {
   "cell_type": "code",
   "execution_count": 78,
   "metadata": {},
   "outputs": [],
   "source": [
    "np.save('data/extracted_comb.npy', hopo_combined)"
   ]
  },
  {
   "cell_type": "code",
   "execution_count": null,
   "metadata": {},
   "outputs": [],
   "source": []
  }
 ],
 "metadata": {
  "kernelspec": {
   "display_name": "Python 3",
   "language": "python",
   "name": "python3"
  },
  "language_info": {
   "codemirror_mode": {
    "name": "ipython",
    "version": 3
   },
   "file_extension": ".py",
   "mimetype": "text/x-python",
   "name": "python",
   "nbconvert_exporter": "python",
   "pygments_lexer": "ipython3",
   "version": "3.7.4"
  }
 },
 "nbformat": 4,
 "nbformat_minor": 4
}
