{
 "cells": [
  {
   "cell_type": "markdown",
   "metadata": {},
   "source": [
    "# Notebook for extracting data"
   ]
  },
  {
   "cell_type": "code",
   "execution_count": 84,
   "metadata": {},
   "outputs": [],
   "source": [
    "import numpy as np\n",
    "import pandas as pd\n",
    "import time"
   ]
  },
  {
   "cell_type": "code",
   "execution_count": 67,
   "metadata": {},
   "outputs": [],
   "source": [
    "def load_data(folder_name, max_words):\n",
    "    '''\n",
    "    Loads title and text from the given folder and stores it to a numpy array. Takes max_words amount of words from the text\n",
    "    \n",
    "    Inputs:\n",
    "    folder_name : str\n",
    "        destination of csv file\n",
    "    max_words : int\n",
    "        number of words to take from text\n",
    "        \n",
    "    Outputs:\n",
    "    ret : numpy array\n",
    "        shape(N,2), where first column is title and second is corresponding text\n",
    "    '''\n",
    "    df = pd.read_csv(folder_name)\n",
    "    titles = df['title'].values\n",
    "    text = df['content'].apply(lambda x: \" \".join(x.split()[0:max_words]))\n",
    "    ret = np.array([titles, text]).T\n",
    "    \n",
    "    return ret"
   ]
  },
  {
   "cell_type": "code",
   "execution_count": 89,
   "metadata": {},
   "outputs": [],
   "source": [
    "def extract_data(max_words):\n",
    "    ''' \n",
    "    Main function for extracting data\n",
    "    '''\n",
    "    data1 = load_data('data/articles1.csv', max_words)\n",
    "    data2 = load_data('data/articles2.csv', max_words)\n",
    "    data3 = load_data('data/articles3.csv', max_words)\n",
    "    ret = np.concatenate((data1, data2, data3))\n",
    "    \n",
    "    return ret"
   ]
  },
  {
   "cell_type": "code",
   "execution_count": 90,
   "metadata": {},
   "outputs": [
    {
     "name": "stdout",
     "output_type": "stream",
     "text": [
      "11.015007257461548\n"
     ]
    }
   ],
   "source": [
    "start = time.time()\n",
    "hopo_ret = extract_data(50)\n",
    "print(time.time()-start)"
   ]
  },
  {
   "cell_type": "code",
   "execution_count": 91,
   "metadata": {},
   "outputs": [
    {
     "data": {
      "text/plain": [
       "(142570, 2)"
      ]
     },
     "execution_count": 91,
     "metadata": {},
     "output_type": "execute_result"
    }
   ],
   "source": [
    "hopo_ret.shape"
   ]
  },
  {
   "cell_type": "code",
   "execution_count": null,
   "metadata": {},
   "outputs": [],
   "source": []
  }
 ],
 "metadata": {
  "kernelspec": {
   "display_name": "Python 3",
   "language": "python",
   "name": "python3"
  },
  "language_info": {
   "codemirror_mode": {
    "name": "ipython",
    "version": 3
   },
   "file_extension": ".py",
   "mimetype": "text/x-python",
   "name": "python",
   "nbconvert_exporter": "python",
   "pygments_lexer": "ipython3",
   "version": "3.7.4"
  }
 },
 "nbformat": 4,
 "nbformat_minor": 4
}
