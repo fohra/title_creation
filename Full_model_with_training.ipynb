{
 "cells": [
  {
   "cell_type": "markdown",
   "id": "d6b97a63",
   "metadata": {},
   "source": [
    "# Full model with training"
   ]
  },
  {
   "cell_type": "code",
   "execution_count": 1,
   "id": "3501d190",
   "metadata": {},
   "outputs": [],
   "source": [
    "import numpy as np\n",
    "import pandas as pd\n",
    "import time\n",
    "import torch\n",
    "from transformers import BertTokenizer, BertModel, AdamW, get_linear_schedule_with_warmup, AutoTokenizer, AutoModel\n",
    "import torch.nn as nn\n",
    "import torch.optim as optim\n",
    "import torch.nn.functional as F\n",
    "from torch.utils.data import Dataset, DataLoader\n",
    "from nltk.translate.bleu_score import sentence_bleu"
   ]
  },
  {
   "cell_type": "code",
   "execution_count": 2,
   "id": "33749d70",
   "metadata": {},
   "outputs": [],
   "source": [
    "device = torch.device(\"cuda:0\" if torch.cuda.is_available() else \"cpu\")"
   ]
  },
  {
   "cell_type": "code",
   "execution_count": 3,
   "id": "2ebba50b",
   "metadata": {},
   "outputs": [],
   "source": [
    "data = np.load('data/articles_comb.npy', allow_pickle=True) "
   ]
  },
  {
   "cell_type": "code",
   "execution_count": 4,
   "id": "c1b50207",
   "metadata": {},
   "outputs": [],
   "source": [
    "def subsequent_mask(sz):\n",
    "    '''Masking for decoder'''\n",
    "    mask = (torch.triu(torch.ones(sz, sz)) == 1).transpose(0, 1).float()\n",
    "    mask = mask.masked_fill(mask == 0, float('-inf')).masked_fill(mask == 1, float(0.0))\n",
    "    return mask"
   ]
  },
  {
   "cell_type": "code",
   "execution_count": 5,
   "id": "487400c7",
   "metadata": {},
   "outputs": [],
   "source": [
    "class CustomDataset(Dataset):\n",
    "    def __init__(self, root_dir='data/articles_comb.npy', pt_model = 'bert-base-uncased', max_title=50, max_text=75):\n",
    "        '''\n",
    "        Args:\n",
    "        root_dir (string): Path to npy directory\n",
    "        pt_model (string): Which pre-trained model to use\n",
    "        \n",
    "        Outputs:\n",
    "        title (torch.tensor): indexed input for model\n",
    "        text (torch.tensor): indexed target for model\n",
    "        title_mask (torch.tensor): masking for titles\n",
    "        text_mask (torch.tensor): masking for text\n",
    "        '''\n",
    "        self.data = np.load(root_dir, allow_pickle=True) \n",
    "        self.tokenizer = BertTokenizer.from_pretrained(pt_model)\n",
    "        self.max_title = max_title\n",
    "        self.max_text = max_text\n",
    "        \n",
    "    \n",
    "    def __len__(self):\n",
    "        return len(self.data) \n",
    "    \n",
    "    def __getitem__(self, idx):\n",
    "        #load text and title data and tokenize with ready-made tokenizer\n",
    "        tokenized_title = self.tokenizer(self.data[idx, 0], return_tensors='pt', padding='max_length',truncation=True, max_length=self.max_title)\n",
    "        tokenized_text = self.tokenizer(self.data[idx, 1], return_tensors='pt', padding='max_length',truncation=True, max_length=self.max_text)\n",
    "        \n",
    "        # get indexed text & title\n",
    "        title = tokenized_title['input_ids']\n",
    "        text = tokenized_text['input_ids']\n",
    "        \n",
    "        # masking for text (+2 in torch.ones comes from adding start and stop tokens)\n",
    "        title_mask = tokenized_title['attention_mask']\n",
    "        text_mask = tokenized_text['attention_mask']\n",
    "        \n",
    "        #move to device\n",
    "        title = title.to(device)\n",
    "        text = text.to(device)\n",
    "        title_mask = title_mask.to(device)\n",
    "        text_mask = text_mask.to(device)\n",
    "        \n",
    "        return title, text , title_mask, text_mask"
   ]
  },
  {
   "cell_type": "code",
   "execution_count": 6,
   "id": "4a55789e",
   "metadata": {},
   "outputs": [],
   "source": [
    "class TinyCustomDataset(Dataset):\n",
    "    def __init__(self, root_dir='data/articles_comb.npy', pt_model = 'bert-base-uncased', max_title=50, max_text=75):\n",
    "        '''\n",
    "        Args:\n",
    "        root_dir (string): Path to npy directory\n",
    "        pt_model (string): Which pre-trained model to use\n",
    "        \n",
    "        Outputs:\n",
    "        title (torch.tensor): indexed input for model\n",
    "        text (torch.tensor): indexed target for model\n",
    "        title_mask (torch.tensor): masking for titles\n",
    "        text_mask (torch.tensor): masking for text\n",
    "        '''\n",
    "        self.data = np.load(root_dir, allow_pickle=True) \n",
    "        self.tokenizer = AutoTokenizer.from_pretrained(\"google/bert_uncased_L-2_H-768_A-12\")\n",
    "        self.max_title = max_title\n",
    "        self.max_text = max_text\n",
    "        \n",
    "    \n",
    "    def __len__(self):\n",
    "        return len(self.data) \n",
    "    \n",
    "    def __getitem__(self, idx):\n",
    "        #load text and title data and tokenize with ready-made tokenizer\n",
    "        tokenized_title = self.tokenizer(self.data[idx, 0], return_tensors='pt', padding='max_length',truncation=True, max_length=self.max_title)\n",
    "        tokenized_text = self.tokenizer(self.data[idx, 1], return_tensors='pt', padding='max_length',truncation=True, max_length=self.max_text)\n",
    "        \n",
    "        # get indexed text & title\n",
    "        title = tokenized_title['input_ids']\n",
    "        text = tokenized_text['input_ids']\n",
    "        \n",
    "        # masking for text (+2 in torch.ones comes from adding start and stop tokens)\n",
    "        title_mask = tokenized_title['attention_mask']\n",
    "        text_mask = tokenized_text['attention_mask']\n",
    "        \n",
    "        #move to device\n",
    "        title = title.to(device)\n",
    "        text = text.to(device)\n",
    "        title_mask = title_mask.to(device)\n",
    "        text_mask = text_mask.to(device)\n",
    "        \n",
    "        return title, text , title_mask, text_mask"
   ]
  },
  {
   "cell_type": "code",
   "execution_count": 7,
   "id": "a395a007",
   "metadata": {},
   "outputs": [],
   "source": [
    "class Decoder(nn.Module):\n",
    "    def __init__(self, vocab_size, num_layers, n_features, n_heads, dropout=0.1):\n",
    "        \"\"\"\n",
    "        Inputs:\n",
    "            vocab_size : vocabulary size\n",
    "            num_layers : number of decoder layers\n",
    "            n_features : word embedding size\n",
    "            n_heads : number of attention heads\n",
    "            n_hidden : number of hidden layers\n",
    "            dropout : dropout level\n",
    "        \"\"\"\n",
    "        super(Decoder, self).__init__()\n",
    "        self.embedding = nn.Embedding(vocab_size, n_features)\n",
    "        self.decoder_layer = nn.TransformerDecoderLayer(d_model=n_features, nhead=n_heads, dropout=dropout)\n",
    "        self.decoder = nn.TransformerDecoder(self.decoder_layer, num_layers=num_layers)\n",
    "        self.linear = nn.Linear(n_features, vocab_size)\n",
    "        self.soft = nn.LogSoftmax(dim=2)\n",
    "\n",
    "    def forward(self, tgt, memory, src_mask, tgt_mask):\n",
    "        \"\"\"\n",
    "        Inputs:\n",
    "            tgt : target inputs shape(batch, max_tgt_len)\n",
    "            memory : encoded inputs\n",
    "            src_mask : source mask\n",
    "            tgt_mask : target mask\n",
    "        \"\"\"\n",
    "        tgt = self.embedding(tgt)\n",
    "        x = self.decoder(tgt, memory, tgt_mask=subsequent_mask(tgt.shape[0]).to(device))\n",
    "        x = self.linear(x)\n",
    "        x = self.soft(x)\n",
    "        \n",
    "        return x"
   ]
  },
  {
   "cell_type": "markdown",
   "id": "251c4f20",
   "metadata": {},
   "source": [
    "# Training"
   ]
  },
  {
   "cell_type": "code",
   "execution_count": 8,
   "id": "7c383b65",
   "metadata": {},
   "outputs": [
    {
     "name": "stdout",
     "output_type": "stream",
     "text": [
      "2.513828992843628\n"
     ]
    }
   ],
   "source": [
    "start = time.time()\n",
    "ds = TinyCustomDataset(\"data/train.npy\")\n",
    "print(time.time()-start)"
   ]
  },
  {
   "cell_type": "code",
   "execution_count": 9,
   "id": "5eaf2e2a",
   "metadata": {},
   "outputs": [],
   "source": [
    "#validation, test, train = torch.utils.data.random_split(ds, [round(len(data)*0.1),round(len(data)*0.2), round(len(data)*0.7)])\n",
    "#validation, test, train = torch.utils.data.random_split(ds, [14256,28514,99798])"
   ]
  },
  {
   "cell_type": "code",
   "execution_count": 9,
   "id": "2fe453fd",
   "metadata": {},
   "outputs": [],
   "source": [
    "validloader = DataLoader(dataset=ds, batch_size=16, shuffle=True)"
   ]
  },
  {
   "cell_type": "code",
   "execution_count": 10,
   "id": "92b89deb",
   "metadata": {},
   "outputs": [],
   "source": [
    "tiny = 1"
   ]
  },
  {
   "cell_type": "code",
   "execution_count": 11,
   "id": "5ff198bb",
   "metadata": {},
   "outputs": [],
   "source": [
    "if tiny:\n",
    "    encoder = AutoModel.from_pretrained(\"google/bert_uncased_L-2_H-768_A-12\").to(device)\n",
    "else:\n",
    "    encoder = BertModel.from_pretrained(\"bert-base-uncased\").to(device)"
   ]
  },
  {
   "cell_type": "code",
   "execution_count": 12,
   "id": "204b2c38",
   "metadata": {},
   "outputs": [],
   "source": [
    "decoder = Decoder(vocab_size=30522, num_layers = 4, n_features = 768, n_heads = 12, dropout=0.1).to(device)"
   ]
  },
  {
   "cell_type": "markdown",
   "id": "d5fd1417",
   "metadata": {},
   "source": [
    "## optimizer"
   ]
  },
  {
   "cell_type": "code",
   "execution_count": 13,
   "id": "f9cbade9",
   "metadata": {},
   "outputs": [],
   "source": [
    "num_epochs = 2"
   ]
  },
  {
   "cell_type": "code",
   "execution_count": 14,
   "id": "61514584",
   "metadata": {},
   "outputs": [],
   "source": [
    "steps = 7129 * num_epochs #total number of batches\n",
    "warm_up = round(steps/6) # warmup 1/6 th of total batches"
   ]
  },
  {
   "cell_type": "code",
   "execution_count": 15,
   "id": "ab215efb",
   "metadata": {},
   "outputs": [],
   "source": [
    "encoder_optimizer = AdamW(encoder.parameters(), lr=1e-4)\n",
    "enc_scheduler = get_linear_schedule_with_warmup(encoder_optimizer, num_warmup_steps = warm_up, num_training_steps = steps)\n",
    "decoder_optimizer = AdamW(decoder.parameters(), lr=1e-4)\n",
    "dec_scheduler = get_linear_schedule_with_warmup(decoder_optimizer, num_warmup_steps = warm_up, num_training_steps = steps)"
   ]
  },
  {
   "cell_type": "code",
   "execution_count": 16,
   "id": "4982c157",
   "metadata": {},
   "outputs": [
    {
     "name": "stdout",
     "output_type": "stream",
     "text": [
      "0.8969099521636963\n",
      "Epoch Step: 1 Loss: 10.464056\n",
      "118.45726799964905\n",
      "Epoch Step: 501 Loss: 7.137733\n",
      "235.68254137039185\n",
      "Epoch Step: 1001 Loss: 6.127175\n",
      "353.04618096351624\n",
      "Epoch Step: 1501 Loss: 6.268010\n",
      "470.3697545528412\n",
      "Epoch Step: 2001 Loss: 6.154105\n",
      "587.712338924408\n",
      "Epoch Step: 2501 Loss: 5.592915\n",
      "704.5993876457214\n",
      "Epoch Step: 3001 Loss: 5.332460\n",
      "821.3190634250641\n",
      "Epoch Step: 3501 Loss: 5.280485\n",
      "937.8281919956207\n",
      "Epoch Step: 4001 Loss: 5.465281\n",
      "1054.3582355976105\n",
      "Epoch Step: 4501 Loss: 5.300478\n",
      "1170.8573195934296\n",
      "Epoch Step: 5001 Loss: 5.281221\n",
      "1287.388870716095\n",
      "Epoch Step: 5501 Loss: 5.144050\n",
      "1404.091150045395\n",
      "Epoch Step: 6001 Loss: 4.249664\n",
      "1520.8257870674133\n",
      "Epoch Step: 6501 Loss: 4.263848\n",
      "1637.527836561203\n",
      "Epoch Step: 7001 Loss: 5.141964\n",
      "1667.3183591365814\n",
      "Mean loss for epoch: 5.616300\n",
      "0.20313215255737305\n",
      "Epoch Step: 1 Loss: 4.531831\n",
      "116.90210199356079\n",
      "Epoch Step: 501 Loss: 4.404940\n",
      "233.57371068000793\n",
      "Epoch Step: 1001 Loss: 4.288838\n",
      "350.2767827510834\n",
      "Epoch Step: 1501 Loss: 4.492037\n",
      "470.61781764030457\n",
      "Epoch Step: 2001 Loss: 4.132955\n",
      "595.8770365715027\n",
      "Epoch Step: 2501 Loss: 4.677262\n",
      "716.4489855766296\n",
      "Epoch Step: 3001 Loss: 3.844935\n",
      "836.1588478088379\n",
      "Epoch Step: 3501 Loss: 3.770983\n",
      "958.4022786617279\n",
      "Epoch Step: 4001 Loss: 3.943383\n",
      "1084.3597011566162\n",
      "Epoch Step: 4501 Loss: 3.771877\n",
      "1221.8766930103302\n",
      "Epoch Step: 5001 Loss: 4.146626\n",
      "1355.6755611896515\n",
      "Epoch Step: 5501 Loss: 4.410431\n",
      "1482.9035995006561\n",
      "Epoch Step: 6001 Loss: 3.762816\n",
      "1606.013500213623\n",
      "Epoch Step: 6501 Loss: 4.120489\n",
      "1730.910873889923\n",
      "Epoch Step: 7001 Loss: 4.037574\n",
      "1763.685297012329\n",
      "Mean loss for epoch: 4.882576\n"
     ]
    }
   ],
   "source": [
    "encoder.train()\n",
    "decoder.train()\n",
    "criterion = nn.NLLLoss(ignore_index=0)\n",
    "losses = []\n",
    "e_losses = []\n",
    "for e in range(num_epochs):\n",
    "    start= time.time()\n",
    "    for i, data in enumerate(validloader):\n",
    "        #load data and change their dimensions to fit BERT\n",
    "        targets = data[0].squeeze()\n",
    "        inputs = data[1].squeeze()\n",
    "        targets_masks = data[2].squeeze()\n",
    "        inputs_masks = data[3].squeeze()\n",
    "        \n",
    "        encoder_optimizer.zero_grad()\n",
    "        decoder_optimizer.zero_grad()\n",
    "        \n",
    "        #encode the inputs using BERT & change dimensions to fit transformer decoder\n",
    "        encoded_inputs = encoder(inputs, attention_mask=inputs_masks)\n",
    "        encoded_inputs = encoded_inputs[0].permute(1,0,2)\n",
    "        \n",
    "        # Next encoded would go through decoder and then a loss would be calculated\n",
    "        targets = torch.transpose(targets, 0, 1)\n",
    "        outputs = decoder(targets[:-1], encoded_inputs, inputs_masks, targets_masks)\n",
    "        outputs = torch.flatten(outputs, start_dim=0, end_dim=1)\n",
    "        targets = torch.flatten(targets[1:])\n",
    "        \n",
    "        loss = criterion(outputs, targets)\n",
    "        loss.backward()\n",
    "        losses.append(loss.item())\n",
    "        \n",
    "        encoder_optimizer.step()\n",
    "        enc_scheduler.step()\n",
    "        decoder_optimizer.step()\n",
    "        dec_scheduler.step()\n",
    "        if i%500==0:\n",
    "            print(time.time()-start)\n",
    "            print(\"Epoch Step: %d Loss: %f\" %(i+1, loss.item()))\n",
    "    \n",
    "    print(time.time()-start)\n",
    "    print(\"Mean loss for epoch: %f\" %(np.mean(losses)))\n",
    "    enc_fname = 'models/FinalEncoderTiny2E'+ str(e+1) +'L4H12LR-4.pth'\n",
    "    dec_fname = 'models/FinalDecoderTiny2E'+ str(e+1) +'L4H12LR-4.pth'\n",
    "    torch.save(encoder.state_dict(), enc_fname)\n",
    "    torch.save(decoder.state_dict(), dec_fname)"
   ]
  },
  {
   "cell_type": "code",
   "execution_count": null,
   "id": "bd4bd721",
   "metadata": {},
   "outputs": [],
   "source": [
    "losses = np.array(losses)"
   ]
  },
  {
   "cell_type": "code",
   "execution_count": 18,
   "id": "2230dffd",
   "metadata": {},
   "outputs": [],
   "source": [
    "np.save('losses/traintiny_sche_lossesE2.npy',losses)"
   ]
  },
  {
   "cell_type": "code",
   "execution_count": 19,
   "id": "734d4e56",
   "metadata": {},
   "outputs": [],
   "source": [
    "from matplotlib import pyplot as plt"
   ]
  },
  {
   "cell_type": "code",
   "execution_count": 20,
   "id": "73e5ae08",
   "metadata": {},
   "outputs": [
    {
     "data": {
      "text/plain": [
       "[<matplotlib.lines.Line2D at 0x1490df09708>]"
      ]
     },
     "execution_count": 20,
     "metadata": {},
     "output_type": "execute_result"
    },
    {
     "data": {
      "image/png": "[encoded data removed]",
      "text/plain": [
       "<Figure size 432x288 with 1 Axes>"
      ]
     },
     "metadata": {
      "needs_background": "light"
     },
     "output_type": "display_data"
    }
   ],
   "source": [
    "plt.plot(losses)"
   ]
  },
  {
   "cell_type": "markdown",
   "id": "63b3330c",
   "metadata": {},
   "source": [
    "# Testing the Model"
   ]
  },
  {
   "cell_type": "markdown",
   "id": "16fc047a",
   "metadata": {},
   "source": [
    "### Generating Titles"
   ]
  },
  {
   "cell_type": "code",
   "execution_count": 8,
   "id": "b03b4226",
   "metadata": {},
   "outputs": [
    {
     "data": {
      "text/plain": [
       "<All keys matched successfully>"
      ]
     },
     "execution_count": 8,
     "metadata": {},
     "output_type": "execute_result"
    }
   ],
   "source": [
    "encoder = BertModel.from_pretrained(\"bert-base-uncased\").to(device)\n",
    "encoder.load_state_dict(torch.load('models/FinalEncoder2E2L4H12LR-4.pth', map_location=lambda storage, loc: storage))"
   ]
  },
  {
   "cell_type": "code",
   "execution_count": 9,
   "id": "26c1df51",
   "metadata": {},
   "outputs": [
    {
     "data": {
      "text/plain": [
       "<All keys matched successfully>"
      ]
     },
     "execution_count": 9,
     "metadata": {},
     "output_type": "execute_result"
    }
   ],
   "source": [
    "decoder = Decoder(vocab_size=30522, num_layers = 4, n_features = 768, n_heads = 12, dropout=0.1).to(device)\n",
    "decoder.load_state_dict(torch.load('models/FinalDecoder2E2L4H12LR-4.pth', map_location=lambda storage, loc: storage))"
   ]
  },
  {
   "cell_type": "code",
   "execution_count": 10,
   "id": "53438c87",
   "metadata": {},
   "outputs": [
    {
     "name": "stdout",
     "output_type": "stream",
     "text": [
      "1.9477717876434326\n"
     ]
    }
   ],
   "source": [
    "start = time.time()\n",
    "ds = CustomDataset(\"data/test.npy\")\n",
    "print(time.time()-start)"
   ]
  },
  {
   "cell_type": "code",
   "execution_count": 11,
   "id": "3c7d2b72",
   "metadata": {},
   "outputs": [],
   "source": [
    "ValidTestLoader = DataLoader(dataset=ds, batch_size=1, shuffle=True)"
   ]
  },
  {
   "cell_type": "code",
   "execution_count": 12,
   "id": "f403b04c",
   "metadata": {},
   "outputs": [],
   "source": [
    "def generate_title(encoder, decoder, src_seq, inputs_masks, targets_masks):\n",
    "    \"\"\"\n",
    "    Args:\n",
    "      encoder (Encoder): Trained encoder.\n",
    "      decoder (Decoder): Trained decoder.\n",
    "      src_seq of shape (src_seq_length): LongTensor of word indices of the source sentence.\n",
    "    \n",
    "    Returns:\n",
    "      out_seq of shape (out_seq_length, 1): LongTensor of word indices of the output sentence.\n",
    "    \"\"\"\n",
    "    # YOUR CODE HERE\n",
    "    eout = encoder(src_seq, attention_mask=inputs_masks)\n",
    "    eout = eout[0].permute(1,0,2)\n",
    "    output= torch.zeros(1, 1).fill_(101).type_as(src_seq)\n",
    "    for i in range(50):\n",
    "        if output[i]==102:\n",
    "            break\n",
    "        dout = decoder(output, eout, inputs_masks, targets_masks)\n",
    "        #estimate list of word indexes based on decoder output\n",
    "        next_word_idx = dout.max(2)[1].squeeze(1)\n",
    "        output = torch.cat([output, torch.ones(1,1).type_as(output).fill_(next_word_idx[-1])], dim=0)\n",
    "    return output"
   ]
  },
  {
   "cell_type": "code",
   "execution_count": 13,
   "id": "d41a4c78",
   "metadata": {},
   "outputs": [],
   "source": [
    "def remove_extra_tokens(seq):\n",
    "    pad = ['[PAD]', '[CLS]','[SEP]']\n",
    "    seq = seq.split()\n",
    "\n",
    "    seq  = [word for word in seq if word not in pad]\n",
    "    seq = ' '.join(seq)\n",
    "    \n",
    "    return seq"
   ]
  },
  {
   "cell_type": "code",
   "execution_count": 14,
   "id": "a777c0d5",
   "metadata": {},
   "outputs": [],
   "source": [
    "def generate_and_BLEU(encoder, decoder, data, dataset):\n",
    "    '''\n",
    "    encoder: BERT model\n",
    "    decoder: Transformer model\n",
    "    data: list of targets, inputs, target_masks, input_masks\n",
    "    dataset: Custom dataset that contains the tokenizer to get the vocabulary\n",
    "    '''\n",
    "    src_seq = data[1].squeeze(dim=1)\n",
    "    target_seq = dataset.tokenizer.decode(data[0].squeeze()) #transform it to text\n",
    "    target_seq = remove_extra_tokens(target_seq) #remove pads\n",
    "    inputs_masks = data[3]\n",
    "    targets_masks = data[2]\n",
    "    \n",
    "    #generate title\n",
    "    generated_title = generate_title(encoder, decoder, src_seq, inputs_masks, targets_masks)\n",
    "    \n",
    "    #transform generated to text\n",
    "    src_seq = dataset.tokenizer.decode(generated_title.T.squeeze()) \n",
    "    src_seq = remove_extra_tokens(src_seq)\n",
    "    \n",
    "    #calculate BLEU\n",
    "    bleu = sentence_bleu([target_seq], src_seq)\n",
    "    \n",
    "    return bleu, src_seq, target_seq"
   ]
  },
  {
   "cell_type": "code",
   "execution_count": 43,
   "id": "d260d134",
   "metadata": {
    "collapsed": true
   },
   "outputs": [
    {
     "name": "stdout",
     "output_type": "stream",
     "text": [
      "0\n",
      "0.18015599250793457\n",
      "here ’ s how to get your job to get your job\n",
      "23 questions you should never ask at the end of a job interview\n"
     ]
    },
    {
     "name": "stderr",
     "output_type": "stream",
     "text": [
      "E:\\Anaconda\\lib\\site-packages\\nltk\\translate\\bleu_score.py:516: UserWarning: \n",
      "The hypothesis contains 0 counts of 3-gram overlaps.\n",
      "Therefore the BLEU score evaluates to 0, independently of\n",
      "how many N-gram overlaps of lower order it contains.\n",
      "Consider using lower n-gram order or use SmoothingFunction()\n",
      "  warnings.warn(_msg)\n",
      "E:\\Anaconda\\lib\\site-packages\\nltk\\translate\\bleu_score.py:516: UserWarning: \n",
      "The hypothesis contains 0 counts of 4-gram overlaps.\n",
      "Therefore the BLEU score evaluates to 0, independently of\n",
      "how many N-gram overlaps of lower order it contains.\n",
      "Consider using lower n-gram order or use SmoothingFunction()\n",
      "  warnings.warn(_msg)\n",
      "E:\\Anaconda\\lib\\site-packages\\nltk\\translate\\bleu_score.py:516: UserWarning: \n",
      "The hypothesis contains 0 counts of 2-gram overlaps.\n",
      "Therefore the BLEU score evaluates to 0, independently of\n",
      "how many N-gram overlaps of lower order it contains.\n",
      "Consider using lower n-gram order or use SmoothingFunction()\n",
      "  warnings.warn(_msg)\n"
     ]
    },
    {
     "name": "stdout",
     "output_type": "stream",
     "text": [
      "2000\n",
      "272.2538573741913\n",
      "obama ’ s $ 1. 5 billion deal with $ 1 billion in the wall street\n",
      "when will obama have made enough money?\n",
      "4000\n",
      "544.1833250522614\n",
      "the white house is a new threat to the white house\n",
      "republicans and democrats are both wrong about leaks from intelligence agencies\n",
      "6000\n",
      "817.3101925849915\n",
      "pentagon : us to fight isis in mosul\n",
      "pentagon mulls more troops to fight isis in iraq\n",
      "8000\n",
      "1093.8131906986237\n",
      "donald trump ’ s pick for vp pick is a big problem\n",
      "trump is doing something no candidate has done in almost 30 years, and it could pay off\n",
      "10000\n",
      "1363.8259599208832\n",
      "a new book of the world ’ s most powerful story\n",
      "’ glory of the world ’ is more wacky birthday party than traditional play\n",
      "12000\n",
      "1631.4416756629944\n",
      "the mystery of the seaworld is dead\n",
      "why killer whales ( and humans ) go through menopause\n",
      "14000\n",
      "1899.6606404781342\n",
      "google ’ s self - driving uber is a new way to be a new job\n",
      "hell of a ride : even a pr powerhouse couldn ’ t get uber on track\n",
      "16000\n",
      "2176.083243370056\n",
      "los angeles sheriff ’ s officer killed by police officer\n",
      "sheriff ’ s sergeant shot and killed during burglary call in southern california\n",
      "18000\n",
      "2451.979738712311\n",
      "trump to meet with u. s. embassy to jerusalem, israel says\n",
      "on jerusalem, as on much else, it ’ s trump vs. ’ deep state ’ - breitbart\n",
      "20000\n",
      "2732.2837631702423\n",
      "the trump administration is a ’ war ’\n",
      "principle over politics in iowa\n",
      "22000\n",
      "2998.9613041877747\n",
      "canada ’ s rights group charged with watergate\n",
      "canadian court clears activist who gave water to pigs\n",
      "24000\n",
      "3261.992301464081\n",
      "the trump administration has been a new investigation into a special counsel\n",
      "jared kushner ’ s finances and business dealings are now a focus of the trump - russia investigation\n",
      "26000\n",
      "3529.0635430812836\n",
      "tom cotton : ’ we ’ re not going to repeal obamacare ’ - breitbart\n",
      "cotton : gop health care plan is ’ not going to work to bring down premiums ’ - breitbart\n",
      "28000\n",
      "3799.6542563438416\n",
      "diets may be more than you think\n",
      "probiotic goods a ’ waste of money ’ for healthy adults, research suggests\n"
     ]
    }
   ],
   "source": [
    "'''encoder.eval()\n",
    "decoder.eval()\n",
    "bleus = []\n",
    "start = time.time()\n",
    "with torch.no_grad():\n",
    "    for i, data_list in enumerate(ValidTestLoader):\n",
    "        bleu, src_seq, target_seq = generate_and_BLEU(encoder, decoder, data_list, ds)\n",
    "        bleus.append(bleu)\n",
    "        if i%2000 ==0:\n",
    "            print(i)\n",
    "            print(time.time()-start)\n",
    "            print(src_seq)\n",
    "            print(target_seq)'''"
   ]
  },
  {
   "cell_type": "code",
   "execution_count": 44,
   "id": "d72bd4bf",
   "metadata": {},
   "outputs": [
    {
     "data": {
      "text/plain": [
       "0.2333676567115117"
      ]
     },
     "execution_count": 44,
     "metadata": {},
     "output_type": "execute_result"
    }
   ],
   "source": [
    "#np.mean(bleus)"
   ]
  },
  {
   "cell_type": "code",
   "execution_count": 15,
   "id": "dbb98bee",
   "metadata": {},
   "outputs": [
    {
     "name": "stdout",
     "output_type": "stream",
     "text": [
      "Generation num: 1\n",
      "Generated title:\n",
      "ryan lochte ’ s twitter account\n",
      " \n",
      "Original title:\n",
      "ryan lochte ’ s sponsorship woes\n",
      " \n",
      "Input sequence:\n",
      "[CLS] for us to continue writing great stories, we need to display ads. please select the extension that is blocking ads. please follow the steps below, updated on august 22 at 5 : 11 p. m. est, news brief ryan lochte, the olympic swimmer, has lost four major commercial sponsorships over his account [SEP] [PAD] [PAD] [PAD] [PAD] [PAD] [PAD] [PAD] [PAD] [PAD] [PAD]\n",
      " \n",
      "Generation num: 2\n",
      "Generated title:\n",
      "putin meets with trump, obama ’ s speech\n",
      " \n",
      "Original title:\n",
      "putin congratulates trump in new year statement\n",
      " \n",
      "Input sequence:\n",
      "[CLS] ( cnn ) russian president vladimir putin congratulated us donald trump, rather than president barack obama, in his annual new year ’ s greetings statement to foreign heads of state and government. however, putin did convey his seasonal greetings to obama, his family and the american people in a separate statement earlier friday, while [SEP] [PAD] [PAD] [PAD] [PAD] [PAD] [PAD] [PAD] [PAD] [PAD]\n",
      " \n",
      "Generation num: 3\n",
      "Generated title:\n",
      "poll : hillary clinton ’ s new hampshire primary in california primary - breitbart\n",
      " \n",
      "Original title:\n",
      "young democrats rush to register ahead of california primary - breitbart\n",
      " \n",
      "Input sequence:\n",
      "[CLS] 1. 5 million new voters have registered ahead of the june 7 california primary — and the rivalry between hillary clinton and sen. bernie sanders ( ) appears to be a reason, as sanders makes a effort to keep clinton from the nomination. [ the los angeles data firm political data [SEP] [PAD] [PAD] [PAD] [PAD] [PAD] [PAD] [PAD] [PAD] [PAD] [PAD] [PAD] [PAD] [PAD] [PAD] [PAD] [PAD] [PAD] [PAD]\n",
      " \n",
      "Generation num: 4\n",
      "Generated title:\n",
      "brazil prison prison in prison\n",
      " \n",
      "Original title:\n",
      "brazilian prison riot leaves 4 dead\n",
      " \n",
      "Input sequence:\n",
      "[CLS] ( cnn ) four people died sunday in a riot at a prison in brazil, the nation ’ s third deadly prison uprising in seven days. three inmates were decapitated and one was asphyxiated in the desembargador raimundo vidal pessoa public jail in the northern part of the country, reported the amazonas state penitentiary [SEP] [PAD] [PAD]\n",
      " \n",
      "Generation num: 5\n",
      "Generated title:\n",
      "trump : ’ we are going to be a threat ’\n",
      " \n",
      "Original title:\n",
      "on 9 / 11 anniversary, homeland secretary johnson says us safer but ’ challenged ’ by newer, lone - wolf attacks\n",
      " \n",
      "Input sequence:\n"
     ]
    },
    {
     "name": "stderr",
     "output_type": "stream",
     "text": [
      "E:\\Anaconda\\lib\\site-packages\\nltk\\translate\\bleu_score.py:516: UserWarning: \n",
      "The hypothesis contains 0 counts of 4-gram overlaps.\n",
      "Therefore the BLEU score evaluates to 0, independently of\n",
      "how many N-gram overlaps of lower order it contains.\n",
      "Consider using lower n-gram order or use SmoothingFunction()\n",
      "  warnings.warn(_msg)\n"
     ]
    },
    {
     "name": "stdout",
     "output_type": "stream",
     "text": [
      "[CLS] “ our government ’ s become pretty good at detecting and preventing something hatched from overseas, ” johnson told “ fox news sunday ” from the world trade center memorial in new york city. “ we ’ re better than we were 15 years ago. where we ’ re challenged, however, is the lone attack. ” nearly 3, 000 people were [SEP] [PAD] [PAD] [PAD] [PAD]\n",
      " \n",
      "Generation num: 6\n",
      "Generated title:\n",
      "obama ’ s immigration ban gets jail for illegal immigrants\n",
      " \n",
      "Original title:\n",
      "white house ‘ champion of change ’ sentenced for immigration fraud - breitbart\n",
      " \n",
      "Input sequence:\n",
      "[CLS] an immigration activist the obama white house once honored as a “ champion of change ” embodying “ the spirit of cesar chavez ’ s legacy ” has been sentenced to probation for her role in deceiving immigration authorities on behalf of a foreign national. [ bonnie monique youn, an immigration lawyer, was sentenced last week to [SEP] [PAD] [PAD] [PAD] [PAD] [PAD] [PAD] [PAD] [PAD]\n",
      " \n",
      "Generation num: 7\n",
      "Generated title:\n",
      "tillerson : ’ we ’ re going to be a ’ - breitbart\n",
      " \n",
      "Original title:\n",
      "tillerson : ‘ steps are under way ’ to remove assad from power in syria - breitbart\n",
      " \n",
      "Input sequence:\n",
      "[CLS] on thursday, secretary of state rex tillerson said “ steps are under way ” to form an international coalition to remove the president of syria bashar after tuesday ’ s chemical bombings in syria. partial transcript as follows : tillerson : well obviously, the events that have occurred in syria with the chemical weapons attack here [SEP] [PAD] [PAD] [PAD] [PAD] [PAD] [PAD] [PAD] [PAD] [PAD] [PAD] [PAD]\n",
      " \n",
      "Generation num: 8\n",
      "Generated title:\n",
      "how to get a gold medal of the olympics\n",
      " \n",
      "Original title:\n",
      "how to train like an olympian – eat loads of peanut butter and listen to robots\n",
      " \n",
      "Input sequence:\n",
      "[CLS] most athletes who want to improve their performance do not consult retired geography teachers turned missionaries. but it worked for david rudisha, and for the other kenyan athletes who have won 39 medals at the last four olympics under the tutelage of colm o ’ connell. o ’ connell, now 67, came to kenya [SEP] [PAD] [PAD] [PAD] [PAD] [PAD] [PAD] [PAD] [PAD] [PAD]\n",
      " \n",
      "Generation num: 9\n",
      "Generated title:\n",
      "actress : ’ i ’ m not going to be a woman ’ - breitbart\n",
      " \n",
      "Original title:\n",
      "actress amber tamblyn blasts nude trump statues : ’ body shaming is never ok ’ - breitbart\n",
      " \n",
      "Input sequence:\n",
      "[CLS] actress amber tamblyn bashed the creators of the naked, donald trump statues that popped up in several u. s. cities in recent weeks. [ “ body shaming is never ok, even when it comes to trump, ” the sisterhood of the traveling pants star said in a brief facebook post late sunday. “ these [SEP] [PAD] [PAD] [PAD] [PAD] [PAD] [PAD] [PAD]\n",
      " \n",
      "Generation num: 10\n",
      "Generated title:\n",
      "kasich, john kasich, john kasich, and kasich, in presidential race - the new york times\n",
      " \n",
      "Original title:\n",
      "john kasich suspends campaign for president - the new york times\n",
      " \n",
      "Input sequence:\n",
      "[CLS] gov. john kasich of ohio, a moderate voice who tried to portray himself as the adult in the republican primary field but failed to win any state but his own, ended his quest for the presidency on wednesday, cementing donald j. trump ’ s grip on the presidential nomination. mr. kasich ’ s departure, [SEP] [PAD] [PAD] [PAD] [PAD] [PAD] [PAD]\n",
      " \n",
      "Generation num: 11\n",
      "Generated title:\n",
      "islamic state ’ s first 100 days : obama ’ s ’ radical islam ’\n",
      " \n",
      "Original title:\n",
      "pamela geller : why did orlando happen? a massive intel failure - breitbart\n",
      " \n",
      "Input sequence:\n",
      "[CLS] one year after the first u. s. isis attack — on our free speech event in garland, texas — an islamic jihadist, omar mateen, succeeded in carrying out the largest terrorist attack on american soil since. [ about this massive intel failure, obama ’ s fbi director james comey declared : “ i don ’ t [SEP] [PAD] [PAD] [PAD] [PAD] [PAD] [PAD] [PAD]\n",
      " \n",
      "Generation num: 12\n",
      "Generated title:\n",
      "bill clinton ’ s speech was a lot of the democratic party\n",
      " \n",
      "Original title:\n",
      "watch bill clinton kick balloons after hillary clinton ’ s big speech\n",
      " \n",
      "Input sequence:\n",
      "[CLS] ’ bill clinton took to the stage after hillary clinton wrapped up her major address to close out the democratic national convention in philadelphia on thursday. ’ ’ with an astronomical number of balloons dropping from the rafters of the wells fargo center, the 42nd president decided to have some [SEP] [PAD] [PAD] [PAD] [PAD] [PAD] [PAD] [PAD] [PAD] [PAD] [PAD] [PAD] [PAD] [PAD] [PAD] [PAD] [PAD] [PAD] [PAD] [PAD] [PAD]\n",
      " \n",
      "Generation num: 13\n",
      "Generated title:\n",
      "woman may be able to get your body\n",
      " \n",
      "Original title:\n",
      "could skinny jeans cause nerve damage?\n",
      " \n",
      "Input sequence:\n",
      "[CLS] ( cnn ) skinny jeans could leave you weak in the knees, literally. one woman was hospitalized for days after her jeans caused her to lose feeling in her legs, according to a study published in the journal of neurology, neurosurgery psychiatry. the study said that squatting in skinny jeans can damage [SEP] [PAD] [PAD] [PAD] [PAD] [PAD] [PAD] [PAD] [PAD] [PAD]\n",
      " \n"
     ]
    },
    {
     "name": "stderr",
     "output_type": "stream",
     "text": [
      "E:\\Anaconda\\lib\\site-packages\\nltk\\translate\\bleu_score.py:516: UserWarning: \n",
      "The hypothesis contains 0 counts of 3-gram overlaps.\n",
      "Therefore the BLEU score evaluates to 0, independently of\n",
      "how many N-gram overlaps of lower order it contains.\n",
      "Consider using lower n-gram order or use SmoothingFunction()\n",
      "  warnings.warn(_msg)\n"
     ]
    },
    {
     "name": "stdout",
     "output_type": "stream",
     "text": [
      "Generation num: 14\n",
      "Generated title:\n",
      "egyptair flight after egyptair flight, egyptair flight - the new york times\n",
      " \n",
      "Original title:\n",
      "security forces arrest egyptair hijacker after airport standoff in cyprus\n",
      " \n",
      "Input sequence:\n",
      "[CLS] cairo — a nearly hijacking standoff in cyprus ended tuesday after the surrender of a man who commandeered an egyptian airliner, claiming to have an explosive vest, officials said. there were no immediate reports of injuries among the more than 55 passengers and crew on the egyptair flight, and cypriot [SEP] [PAD] [PAD] [PAD] [PAD] [PAD] [PAD] [PAD] [PAD] [PAD] [PAD] [PAD] [PAD]\n",
      " \n",
      "Generation num: 15\n",
      "Generated title:\n",
      "the fed ’ s treasury secretary of interest rates\n",
      " \n",
      "Original title:\n",
      "comptroller of the currency gig probably the easiest in dc\n",
      " \n",
      "Input sequence:\n",
      "[CLS] keith noreika, the acting comptroller of the currency, might have the easiest job in washington. picked in may as the interim regulator of banks, noreika has had to recuse himself from overseeing 80 banks, law firms, private equity firms, and consulting firms, according to a letter released by the occ [SEP] [PAD] [PAD] [PAD] [PAD] [PAD] [PAD] [PAD]\n",
      " \n"
     ]
    }
   ],
   "source": [
    "encoder.eval()\n",
    "decoder.eval()\n",
    "bleus = []\n",
    "start = time.time()\n",
    "with torch.no_grad():\n",
    "    for i, data_list in enumerate(ValidTestLoader):\n",
    "        bleu, gen_seq, target_seq = generate_and_BLEU(encoder, decoder, data_list, ds)\n",
    "        \n",
    "        print(\"Generation num: %d\" %(i+1))\n",
    "        print('Generated title:')\n",
    "        print(gen_seq)\n",
    "        print(' ')\n",
    "        print('Original title:')\n",
    "        print(target_seq)\n",
    "        print(' ')\n",
    "        print('Input sequence:')\n",
    "        print(ds.tokenizer.decode(data_list[1].squeeze()))\n",
    "        print(' ')\n",
    "        if i ==14:\n",
    "            break"
   ]
  },
  {
   "cell_type": "code",
   "execution_count": null,
   "id": "5bbf94fb",
   "metadata": {},
   "outputs": [],
   "source": [
    "# check tiny"
   ]
  },
  {
   "cell_type": "code",
   "execution_count": 16,
   "id": "7a5a85e9",
   "metadata": {},
   "outputs": [
    {
     "data": {
      "text/plain": [
       "<All keys matched successfully>"
      ]
     },
     "execution_count": 16,
     "metadata": {},
     "output_type": "execute_result"
    }
   ],
   "source": [
    "encoder = AutoModel.from_pretrained(\"google/bert_uncased_L-2_H-768_A-12\").to(device)\n",
    "encoder.load_state_dict(torch.load('models/FinalEncoderTiny2E2L4H12LR-4.pth', map_location=lambda storage, loc: storage))"
   ]
  },
  {
   "cell_type": "code",
   "execution_count": 17,
   "id": "09cb98d0",
   "metadata": {},
   "outputs": [
    {
     "data": {
      "text/plain": [
       "<All keys matched successfully>"
      ]
     },
     "execution_count": 17,
     "metadata": {},
     "output_type": "execute_result"
    }
   ],
   "source": [
    "decoder = Decoder(vocab_size=30522, num_layers = 4, n_features = 768, n_heads = 12, dropout=0.1).to(device)\n",
    "decoder.load_state_dict(torch.load('models/FinalDecoderTiny2E2L4H12LR-4.pth', map_location=lambda storage, loc: storage))"
   ]
  },
  {
   "cell_type": "code",
   "execution_count": 18,
   "id": "f4513a7d",
   "metadata": {},
   "outputs": [
    {
     "name": "stdout",
     "output_type": "stream",
     "text": [
      "2.369154453277588\n"
     ]
    }
   ],
   "source": [
    "start = time.time()\n",
    "ds = TinyCustomDataset(\"data/test.npy\")\n",
    "print(time.time()-start)\n",
    "\n",
    "ValidTestLoader = DataLoader(dataset=ds, batch_size=1, shuffle=True)"
   ]
  },
  {
   "cell_type": "code",
   "execution_count": 19,
   "id": "930807db",
   "metadata": {
    "scrolled": false
   },
   "outputs": [
    {
     "name": "stdout",
     "output_type": "stream",
     "text": [
      "Generation num: 1\n",
      "Generated title:\n",
      "the ceo of the ceo of the company ’ s ceos\n",
      " \n",
      "Original title:\n",
      "yay, it ’ s time for my performance review! ( said no one ever )\n",
      " \n",
      "Input sequence:\n",
      "[CLS] it ’ s once again time for the annual ritual of fear and loathing, also known as the performance review — at least for the companies that still do them. many have abandoned the old way of evaluating their employees in recent years. last year, even general electric — whose former ceo [SEP] [PAD] [PAD] [PAD] [PAD] [PAD] [PAD] [PAD] [PAD] [PAD] [PAD] [PAD] [PAD] [PAD] [PAD] [PAD] [PAD]\n",
      " \n",
      "Generation num: 2\n",
      "Generated title:\n",
      "in poland, a new york city, a new year - the new york times\n",
      " \n",
      "Original title:\n",
      "this is what happens to women ’ s rights when the far right takes over\n",
      " \n",
      "Input sequence:\n",
      "[CLS] warsaw, poland — it was the first monday in october, which is to say that it was gray, and gross. so they brought umbrellas. not just in warsaw. in katowice, lodz, gdansk, and krakow, and tiny villages between. so many thousands of umbrellas, so many very angry women. “ people were [SEP] [PAD] [PAD] [PAD] [PAD]\n",
      " \n",
      "Generation num: 3\n",
      "Generated title:\n",
      "the new york times : the new york times is a new york times\n",
      " \n",
      "Original title:\n",
      "the first 30 minutes of fx ’ s legion are better than any other superhero show on tv\n",
      " \n",
      "Input sequence:\n",
      "[CLS] it ’ s very rare to find yourself wanting more of anything on the last day of new york comic con. the pop culture bonanza is a sensory overload. casting announcements are made. trailers, teasers, sizzle reels, and sneak peeks are shown. panel discussions are held to examine every detail of every [SEP] [PAD] [PAD] [PAD] [PAD] [PAD] [PAD] [PAD] [PAD]\n",
      " \n",
      "Generation num: 4\n",
      "Generated title:\n",
      "ted cruz : ’ i don ’ t want to talk about the republican party ’ - breitbart\n",
      " \n",
      "Original title:\n",
      "ted cruz : i don ’ t just talk pro - gun, my record proves i am pro - gun - breitbart\n",
      " \n",
      "Input sequence:\n",
      "[CLS] during the january 14 gop debate, presidential hopeful ted cruz sought to differentiate himself from the other candidates on the stage by suggesting his time in office has proven he does not just talk rather, he is. [ cruz said : in any republican primary, everyone is going to say they [SEP] [PAD] [PAD] [PAD] [PAD] [PAD] [PAD] [PAD] [PAD] [PAD] [PAD] [PAD] [PAD] [PAD] [PAD] [PAD] [PAD] [PAD]\n",
      " \n",
      "Generation num: 5\n",
      "Generated title:\n",
      "the nuclear option : japan ’ s death toll in japan, a lot of the world\n",
      " \n",
      "Original title:\n",
      "hiroshima survivors want obama to apologize. but the japanese government probably doesn ’ t.\n",
      " \n",
      "Input sequence:\n",
      "[CLS] terumi tanaka was 13 when the atomic bomb exploded a mile and a half from his nagasaki home. he was knocked unconscious but survived, protected by several hills between him and the epicenter. five members of his family were not as fortunate. he remembers finding the charred bodies of his [SEP] [PAD] [PAD] [PAD] [PAD] [PAD] [PAD] [PAD] [PAD] [PAD] [PAD] [PAD] [PAD] [PAD] [PAD] [PAD] [PAD] [PAD]\n",
      " \n",
      "Generation num: 6\n",
      "Generated title:\n",
      "sally yates : flynn ’ s ‘ trying to be a ‘ very bad ’\n",
      " \n",
      "Original title:\n",
      "yates : i warned white house that flynn could be blackmailed\n",
      " \n",
      "Input sequence:\n",
      "[CLS] washington — former acting attorney general sally yates, speaking publicly for the first time about concerns she brought to the trump white house on russia, told congress on monday she warned that national security adviser michael flynn “ essentially could be blackmailed ” because he apparently had about his contacts with the [SEP] [PAD] [PAD] [PAD] [PAD] [PAD] [PAD] [PAD] [PAD] [PAD] [PAD] [PAD] [PAD] [PAD] [PAD] [PAD] [PAD] [PAD] [PAD]\n",
      " \n",
      "Generation num: 7\n",
      "Generated title:\n",
      "the real reason to stop a new low - school\n",
      " \n",
      "Original title:\n",
      "does coding count as a foreign language?\n",
      " \n",
      "Input sequence:\n",
      "[CLS], i want to receive updates from partners and sponsors. spanish. french. german. computer coding. are they the same? this question is at the center of a debate in florida, where legislators are currently considering a bill that would require high schools to offer computer coding as a credit. the [SEP] [PAD] [PAD] [PAD] [PAD] [PAD] [PAD] [PAD] [PAD] [PAD] [PAD] [PAD] [PAD] [PAD] [PAD] [PAD]\n",
      " \n",
      "Generation num: 8\n",
      "Generated title:\n",
      "watch : the gop will not attend convention - breitbart\n",
      " \n",
      "Original title:\n",
      "mia love will not attend republican national convention - breitbart\n",
      " \n",
      "Input sequence:\n",
      "[CLS] mia love will not attend the rnc convention and serve as a utah delegate. [ advertisement [SEP] [PAD] [PAD] [PAD] [PAD] [PAD] [PAD] [PAD] [PAD] [PAD] [PAD] [PAD] [PAD] [PAD] [PAD] [PAD] [PAD] [PAD] [PAD] [PAD] [PAD] [PAD] [PAD] [PAD] [PAD] [PAD] [PAD] [PAD] [PAD] [PAD] [PAD] [PAD] [PAD] [PAD] [PAD] [PAD] [PAD] [PAD] [PAD] [PAD] [PAD] [PAD] [PAD] [PAD] [PAD] [PAD] [PAD] [PAD] [PAD] [PAD] [PAD] [PAD] [PAD] [PAD] [PAD] [PAD]\n",
      " \n",
      "Generation num: 9\n",
      "Generated title:\n",
      "washington, snowstorm, winter storm, storm, storm, but winter storm\n",
      " \n",
      "Original title:\n",
      "double - digit snowfall blankets the d. c. region with more to come\n",
      " \n",
      "Input sequence:\n",
      "[CLS] parts of the washington region are waking up to snowfall totals saturday, with nearly a foot or more some areas and continuing to fall. wind gusted up to 29 mph at points, but could reach near 50 mph before the storm ends. a blizzard warning remains in effect. the winter [SEP] [PAD] [PAD] [PAD] [PAD] [PAD] [PAD] [PAD] [PAD] [PAD] [PAD] [PAD] [PAD] [PAD] [PAD] [PAD] [PAD] [PAD]\n",
      " \n",
      "Generation num: 10\n",
      "Generated title:\n",
      "apple is getting a new iphone\n",
      " \n",
      "Original title:\n",
      "exclusive : apple makes iphone screen fixes easier as states mull repair laws\n",
      " \n",
      "Input sequence:\n",
      "[CLS] hey siri, where can i get my cracked iphone screen fixed? apple inc customers will soon have more choices as the company looks to reduce long wait times for iphone repairs at its retail stores. by the end of 2017, apple will to put its proprietary machines for mending cracked [SEP] [PAD] [PAD] [PAD] [PAD] [PAD] [PAD] [PAD] [PAD] [PAD] [PAD] [PAD] [PAD] [PAD] [PAD] [PAD] [PAD] [PAD]\n",
      " \n",
      "Generation num: 11\n",
      "Generated title:\n",
      "putin ’ s putin is a ‘ man ’ in london attack\n",
      " \n",
      "Original title:\n",
      "ex - kgb spy was killed because he claimed putin was a pedophile\n",
      " \n",
      "Input sequence:\n",
      "[CLS] vladimir putin was furious when one of his former spies, alexander litvinenko, publicly called him a pedophile in 2006 — a slur that likely spurred the russian leader to order the dissident ’ s assassination in london four months later, a british report concluded on thursday. litvinenko was fatally poisoned by a [SEP] [PAD] [PAD] [PAD] [PAD] [PAD] [PAD] [PAD] [PAD]\n",
      " \n",
      "Generation num: 12\n",
      "Generated title:\n",
      "donald trump ’ s police chief : a lot of the police officers\n",
      " \n",
      "Original title:\n",
      "punishment promised for police officers wearing trump caps\n",
      " \n",
      "Input sequence:\n",
      "[CLS] thank you texas! if you haven ’ t registered to today is your last day. go to : & get out on to! — donald j. trump ( @ realdonaldtrump ) san antonio — san antonio ’ s police chief promises disciplinary action for more than a dozen officers seen in a donald trump campaign video wearing [SEP] [PAD] [PAD] [PAD] [PAD] [PAD] [PAD] [PAD] [PAD]\n",
      " \n",
      "Generation num: 13\n",
      "Generated title:\n",
      "parents of parents who killed her son ’ s ‘ bad ’\n",
      " \n",
      "Original title:\n",
      "my kid got expelled after ‘ dora the explorer ’ actress peer pressured her into vaping\n",
      " \n",
      "Input sequence:\n",
      "[CLS] the parents of a teenager booted from her elite manhattan private school for vaping say she was a victim of a bad influence — dora the explorer. well, at least the voice actress for dora in the popular nickelodeon show, who, the parents say in their manhattan civil suit against [SEP] [PAD] [PAD] [PAD] [PAD] [PAD] [PAD] [PAD] [PAD] [PAD] [PAD] [PAD] [PAD] [PAD] [PAD] [PAD] [PAD] [PAD]\n",
      " \n",
      "Generation num: 14\n",
      "Generated title:\n",
      "iran : iran ’ s leader has been a ’ very dangerous ’ - breitbart\n",
      " \n",
      "Original title:\n",
      "khamenei says talks with u. s. are ‘ lethal poison ’ to iran\n",
      " \n",
      "Input sequence:\n",
      "[CLS] the times of israel reports : amid growing iranian complaints that world powers have failed to live up to their obligations under the nuclear accord with tehran, supreme leader ayatollah ali khamenei said monday that dialogue with the us had proven to be “ a lethal poison, ” as washington had shown that [SEP] [PAD] [PAD] [PAD] [PAD] [PAD] [PAD] [PAD] [PAD] [PAD] [PAD] [PAD] [PAD]\n",
      " \n",
      "Generation num: 15\n",
      "Generated title:\n",
      "the most important things we know about the wall street journal\n",
      " \n",
      "Original title:\n",
      "a bunch of hedge fund managers got together in a room and talked about how long china has\n",
      " \n",
      "Input sequence:\n",
      "[CLS] ’ ’ ” on wall street, there are several events during the year when the masters of the universe get together and share ideas. one of the most important of these is the grant ’ s interest rate observer conference, which took place on wednesday at the plaza hotel in new york city. ” ’ there, [SEP] [PAD] [PAD] [PAD] [PAD] [PAD] [PAD] [PAD] [PAD] [PAD] [PAD] [PAD] [PAD]\n",
      " \n"
     ]
    }
   ],
   "source": [
    "encoder.eval()\n",
    "decoder.eval()\n",
    "bleus = []\n",
    "start = time.time()\n",
    "with torch.no_grad():\n",
    "    for i, data_list in enumerate(ValidTestLoader):\n",
    "        bleu, gen_seq, target_seq = generate_and_BLEU(encoder, decoder, data_list, ds)\n",
    "        \n",
    "        print(\"Generation num: %d\" %(i+1))\n",
    "        print('Generated title:')\n",
    "        print(gen_seq)\n",
    "        print(' ')\n",
    "        print('Original title:')\n",
    "        print(target_seq)\n",
    "        print(' ')\n",
    "        print('Input sequence:')\n",
    "        print(ds.tokenizer.decode(data_list[1].squeeze()))\n",
    "        print(' ')\n",
    "        if i ==14:\n",
    "            break"
   ]
  },
  {
   "cell_type": "code",
   "execution_count": null,
   "id": "f51975f0",
   "metadata": {},
   "outputs": [],
   "source": []
  }
 ],
 "metadata": {
  "kernelspec": {
   "display_name": "Python 3",
   "language": "python",
   "name": "python3"
  },
  "language_info": {
   "codemirror_mode": {
    "name": "ipython",
    "version": 3
   },
   "file_extension": ".py",
   "mimetype": "text/x-python",
   "name": "python",
   "nbconvert_exporter": "python",
   "pygments_lexer": "ipython3",
   "version": "3.7.10"
  }
 },
 "nbformat": 4,
 "nbformat_minor": 5
}
