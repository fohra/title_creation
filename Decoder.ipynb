{
 "cells": [
  {
   "cell_type": "markdown",
   "metadata": {},
   "source": [
    "# Decoder"
   ]
  },
  {
   "cell_type": "markdown",
   "metadata": {},
   "source": [
    "Code for the decoder"
   ]
  },
  {
   "cell_type": "code",
   "execution_count": null,
   "metadata": {},
   "outputs": [],
   "source": [
    "class Decoder(nn.Module):\n",
    "    def __init__(self, vocab_size, num_layers, n_features, n_heads, dropout=0.1):\n",
    "        \"\"\"\n",
    "        Inputs:\n",
    "            vocab_size : vocabulary size\n",
    "            num_layers : number of decoder layers\n",
    "            n_features : word embedding size\n",
    "            n_heads : number of attention heads\n",
    "            n_hidden : number of hidden layers\n",
    "            dropout : dropout level\n",
    "        \"\"\"\n",
    "        super(Decoder, self).init()\n",
    "        self.embedding = nn.Embedding(vocab_size, n_features)\n",
    "        self.decoder_layer = nn.TransformerDecoderLayer(d_model=vocab_size, nhead=n_heads, dropout=dropout)\n",
    "        self.decoder = nn.TransformerDecoder(self.decoder_layer, num_layers=num_layers)\n",
    "        self.linear = nn.Linear(vocab_size, n_features)\n",
    "        self.soft = nn.LogSoftmax(dim=2)\n",
    "\n",
    "    def forward(self, tgt, memory, src_mask, tgt_mask):\n",
    "        \"\"\"\n",
    "        Inputs:\n",
    "            tgt : target inputs\n",
    "            memory : encoded inputs\n",
    "            src_mask : source mask\n",
    "            tgt_mask : target mask\n",
    "        \"\"\"\n",
    "        tgt = self.embedding(tgt)\n",
    "        x = self.decoder(tgt, memory)\n",
    "        x = self.linear(x)\n",
    "        x = self.soft(x)\n",
    "        \n",
    "        return x\n"
   ]
  }
 ],
 "metadata": {
  "kernelspec": {
   "display_name": "Python 3",
   "language": "python",
   "name": "python3"
  },
  "language_info": {
   "codemirror_mode": {
    "name": "ipython",
    "version": 3
   },
   "file_extension": ".py",
   "mimetype": "text/x-python",
   "name": "python",
   "nbconvert_exporter": "python",
   "pygments_lexer": "ipython3",
   "version": "3.7.6"
  }
 },
 "nbformat": 4,
 "nbformat_minor": 4
}
